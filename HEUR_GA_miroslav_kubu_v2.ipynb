{
 "cells": [
  {
   "cell_type": "markdown",
   "metadata": {},
   "source": [
    "# 18HEUR - GA for training ANN"
   ]
  },
  {
   "cell_type": "markdown",
   "metadata": {},
   "source": [
    "### Miroslav Kubů\n",
    "\n",
    "email: kubumiro@fjfi.cvut.cz"
   ]
  },
  {
   "cell_type": "markdown",
   "metadata": {},
   "source": [
    "# Goal\n",
    "\n",
    "<ul>\n",
    "    <li>build artificial neural network</li>\n",
    "    <li>train artificial neural network using genetic algorithm </li>\n",
    "    <li> measure the performance of the classification by fitness value </li>\n",
    "    <li> compare the results for various parameter settings </li>\n",
    "    <li> choose the optimal parameter settings based on the best mean fitness value </li>\n",
    "</ul>\n"
   ]
  },
  {
   "cell_type": "markdown",
   "metadata": {},
   "source": [
    "# IRIS Dataset for Binary Classification Task"
   ]
  },
  {
   "cell_type": "code",
   "execution_count": 1,
   "metadata": {},
   "outputs": [],
   "source": [
    "#import GA \n",
    "#import AN \n",
    "\n",
    "import numpy as np\n",
    "import matplotlib.pyplot as plt\n",
    "from sklearn import datasets"
   ]
  },
  {
   "cell_type": "markdown",
   "metadata": {},
   "source": [
    "We use IRIS training dataset for two classes. The matching inputs are stored in the first 100 observations. Then, we want to perform a statistical binary classification task using an ANN."
   ]
  },
  {
   "cell_type": "code",
   "execution_count": 2,
   "metadata": {},
   "outputs": [],
   "source": [
    "iris = datasets.load_iris()\n",
    "X= iris.data[:100, :] #input\n",
    "Y = iris.target[:100] #target"
   ]
  },
  {
   "cell_type": "code",
   "execution_count": 3,
   "metadata": {},
   "outputs": [
    {
     "data": {
      "text/plain": [
       "array([0, 0, 0, 0, 0, 0, 0, 0, 0, 0, 0, 0, 0, 0, 0, 0, 0, 0, 0, 0, 0, 0,\n",
       "       0, 0, 0, 0, 0, 0, 0, 0, 0, 0, 0, 0, 0, 0, 0, 0, 0, 0, 0, 0, 0, 0,\n",
       "       0, 0, 0, 0, 0, 0, 1, 1, 1, 1, 1, 1, 1, 1, 1, 1, 1, 1, 1, 1, 1, 1,\n",
       "       1, 1, 1, 1, 1, 1, 1, 1, 1, 1, 1, 1, 1, 1, 1, 1, 1, 1, 1, 1, 1, 1,\n",
       "       1, 1, 1, 1, 1, 1, 1, 1, 1, 1, 1, 1])"
      ]
     },
     "execution_count": 3,
     "metadata": {},
     "output_type": "execute_result"
    }
   ],
   "source": [
    "Y"
   ]
  },
  {
   "cell_type": "markdown",
   "metadata": {},
   "source": [
    "# AN.py"
   ]
  },
  {
   "cell_type": "code",
   "execution_count": 4,
   "metadata": {},
   "outputs": [],
   "source": [
    "import numpy as np"
   ]
  },
  {
   "cell_type": "markdown",
   "metadata": {},
   "source": [
    "For the ANN model prediction, we firstly define the activation functions. In our case, we can use ReLU activation function for hidden layers.\n",
    "\n",
    "\\begin{equation}\n",
    "    \\textrm{ReLU} (x) = \\begin{cases}\n",
    "    x &\\mbox{if } x \\geq 0 \\\\\n",
    "    0 & \\mbox{if } x <  0 \\end{cases}.\n",
    "\\end{equation}\n",
    "\n",
    "For the output layer, the sigmoid activation function is used. We can use sigmoid function for hidden layers as well.\n",
    "\n",
    "\\begin{equation}\n",
    "f(x) = \\frac{1}{1+e^{-x}}.\n",
    "\\end{equation}\n",
    "\n",
    "The output of sigmoid can be later interpreted as the probability of an input belonging to the first class."
   ]
  },
  {
   "cell_type": "code",
   "execution_count": 5,
   "metadata": {},
   "outputs": [],
   "source": [
    "def sigmoid(x):\n",
    "    return 1.0 / (1.0 + np.exp(-1 * x))\n",
    "\n",
    "def relu(x):\n",
    "    result = x\n",
    "    result[x < 0] = 0\n",
    "    return result"
   ]
  },
  {
   "cell_type": "markdown",
   "metadata": {},
   "source": [
    "Within the `predict_outputs` function, we calculate the ANN predictions as well as overall accuracy\n",
    "\n",
    "\\begin{equation}\n",
    "    ACC = \\frac{\\#\\textrm{correctly predicted}}{\\#\\textrm{total}}.\n",
    "\\end{equation}\n",
    "\n",
    "The idea of this function is using matrix multiplication of an input with the weights of each layer and then transform it with the activation function. In addition to ACC, we also observe the mean squared error (MSE) loss function defined as\n",
    "\n",
    "\\begin{equation}\n",
    "L(y,\\hat{y})=(y-\\hat{y})^2,\n",
    "\\end{equation}\n",
    "where $y$ is a labeled output and $\\hat{y}$ is the predicted output. Thus, MSE serves as the more precise measure of the performance compared to ACC."
   ]
  },
  {
   "cell_type": "code",
   "execution_count": 6,
   "metadata": {},
   "outputs": [],
   "source": [
    "def predict_outputs(weights_mat, inputs, outputs, activation=\"relu\"):\n",
    "    Y_pred = np.zeros(shape=(inputs.shape[0]))\n",
    "    Y_prob = np.zeros(shape=(inputs.shape[0]))\n",
    "    for i in range(inputs.shape[0]):\n",
    "        x = inputs[i, :]\n",
    "        for curr_weights in weights_mat:\n",
    "            x = np.matmul(x, curr_weights)\n",
    "            if activation == \"relu\":\n",
    "                x = relu(x)\n",
    "            elif activation == \"sigmoid\":\n",
    "                x = sigmoid(x)\n",
    "      \n",
    "    #output of sigmoid function > 0.5 ---> input is considered as class 1 with prob. > 0.5\n",
    "    \n",
    "        if x>0.5: \n",
    "            predicted_label =1\n",
    "        else:\n",
    "            predicted_label=0\n",
    "        Y_prob[i] = x\n",
    "        Y_pred[i] = predicted_label\n",
    "    correct = np.where(Y_pred == outputs)[0].size\n",
    "    accuracy = (correct / outputs.size) * 100   #acc\n",
    "    loss = np.sum(np.square(Y-Y_prob))    #mse \n",
    "    return accuracy, Y_pred, Y_prob, loss"
   ]
  },
  {
   "cell_type": "markdown",
   "metadata": {},
   "source": [
    "# GA.py\n"
   ]
  },
  {
   "cell_type": "code",
   "execution_count": 7,
   "metadata": {},
   "outputs": [],
   "source": [
    "import numpy as np\n",
    "import random"
   ]
  },
  {
   "cell_type": "code",
   "execution_count": 8,
   "metadata": {},
   "outputs": [
    {
     "data": {
      "image/png": "[encoded data removed]",
      "text/plain": [
       "<IPython.core.display.Image object>"
      ]
     },
     "execution_count": 8,
     "metadata": {},
     "output_type": "execute_result"
    }
   ],
   "source": [
    "from IPython.display import Image\n",
    "Image(\"ga.png\")"
   ]
  },
  {
   "cell_type": "markdown",
   "metadata": {},
   "source": [
    "We peform the genetic optimization algorithm according to the scheme above (picture taken from [3]). Because the matrix multiplication is used within ANN, we will still represent the ANN parameters in the matrix form when using the ANN. However we are used to perform GA operations with a 1D vector. Thus, matrix form is used when working with the ANN and vector form is used when working with GA. That´s why we define functions for conversion between matrix and vector form."
   ]
  },
  {
   "cell_type": "code",
   "execution_count": 9,
   "metadata": {},
   "outputs": [],
   "source": [
    "def mat_to_vector(matrix_weights):\n",
    "    weights_vector = []\n",
    "    for i in range(matrix_weights.shape[0]): #runs through solutions in population\n",
    "        curr_vector = []\n",
    "        for layer_i in range(matrix_weights.shape[1]): #runs through layers in solution\n",
    "            vector_weights = np.reshape(matrix_weights[i, layer_i], newshape=(matrix_weights[i, layer_i].size))\n",
    "            curr_vector.extend(vector_weights)\n",
    "        weights_vector.append(curr_vector)\n",
    "    return np.array(weights_vector)\n",
    "\n",
    "def vector_to_mat(vector_weights, matrix_weights):\n",
    "    mat_weights = []\n",
    "    for i in range(matrix_weights.shape[0]):  #runs through solutions in population\n",
    "        start = 0\n",
    "        end = 0\n",
    "        for layer_i in range(matrix_weights.shape[1]): #runs through layers in solution\n",
    "            end = end + matrix_weights[i, layer_i].size\n",
    "            curr_vector = vector_weights[i, start:end]\n",
    "            mat_layer_weights = np.reshape(curr_vector, newshape=(matrix_weights[i, layer_i].shape))\n",
    "            mat_weights.append(mat_layer_weights)\n",
    "            start = end\n",
    "    return np.reshape(mat_weights, newshape=matrix_weights.shape)"
   ]
  },
  {
   "cell_type": "markdown",
   "metadata": {},
   "source": [
    "GA needs to return a fitness value for each solution. We select the MSE as the selected fitness value. Thus, a low fitness value leads to a better solution. We can use ACC as the fitness value as well, but the MSE measure is more precise.\n",
    "\n",
    "As the output of `fitness_pop` is basically an accuracy and MSE for selected weights, we use the `predict_outputs` function."
   ]
  },
  {
   "cell_type": "code",
   "execution_count": 10,
   "metadata": {},
   "outputs": [],
   "source": [
    "def fitness_pop(weights_matrix, inputs, outputs, activation=\"relu\"): \n",
    "    accuracy = np.empty(shape=(weights_matrix.shape[0]))\n",
    "    loss = np.empty(shape=(weights_matrix.shape[0]))\n",
    "\n",
    "    for i in range(weights_matrix.shape[0]): #runs through solutions in population\n",
    "        pom_mat = weights_matrix[i, :]\n",
    "        accuracy[i], _ , _, loss[i] = predict_outputs(pom_mat, inputs, outputs, activation=activation)\n",
    "    return accuracy,loss"
   ]
  },
  {
   "cell_type": "markdown",
   "metadata": {},
   "source": [
    "We choose the best `num_parents` parents for following crossover within the `select_mating_pool` function."
   ]
  },
  {
   "cell_type": "code",
   "execution_count": 11,
   "metadata": {},
   "outputs": [],
   "source": [
    "def select_mating_pool(pop, fitness, num_parents):\n",
    "    parents = np.empty((num_parents, pop.shape[1]))\n",
    "    for parent_i in range(num_parents): \n",
    "        max_fitness_i = np.where(fitness == np.min(fitness)) #runs through solutions in population\n",
    "        max_fitness_i = max_fitness_i[0][0]\n",
    "        parents[parent_i, :] = pop[max_fitness_i, :]\n",
    "        fitness[max_fitness_i] = 999999 # so that we won't use this parent again\n",
    "    return parents"
   ]
  },
  {
   "cell_type": "markdown",
   "metadata": {},
   "source": [
    "Then, we perform `crossover` between selected parents. We choose the number of offsprings in `offspring_size`. After we choose fitting `parent1` and `parent2`, we use `cross_percent` % of `parent1` genes for the offspring (crossover rate $c$)."
   ]
  },
  {
   "cell_type": "code",
   "execution_count": 12,
   "metadata": {},
   "outputs": [],
   "source": [
    "def crossover(parents, offspring_size,cross_percent):\n",
    "    offspring = np.empty(offspring_size)\n",
    "    crossover_point = np.uint8(offspring_size[1]*cross_percent/100)\n",
    "    for k in range(offspring_size[0]):\n",
    "        \n",
    "        #using modulo, we choose a sequence of parents to mate\n",
    "        parent1_i = k%parents.shape[0] #first parent to mate\n",
    "        parent2_i = (k+1)%parents.shape[0] #second parent to mate.\n",
    "        \n",
    "        offspring[k, 0:crossover_point] = parents[parent1_i, 0:crossover_point] \n",
    "        offspring[k, crossover_point:] = parents[parent2_i, crossover_point:] # ]rest of the genes is taken from the 2nd parent\n",
    "        \n",
    "    return offspring"
   ]
  },
  {
   "cell_type": "markdown",
   "metadata": {},
   "source": [
    "In addition to crossover, we perform offspring `mutation` by changing `mutation_percent` % of its chromosomes (mutation rate $m$). We use random uniform number for randomly changing the chromosomes."
   ]
  },
  {
   "cell_type": "code",
   "execution_count": 13,
   "metadata": {},
   "outputs": [],
   "source": [
    "def mutation(offspring_mutation, mutation_percent):\n",
    "    #numb. of chromosomes mutated\n",
    "    num_mutations = np.uint8((mutation_percent*offspring_mutation.shape[1])/100) \n",
    "    \n",
    "    # randomly selected indices for offspring mutation.\n",
    "    mutation_indices = np.array(random.sample(range(0, offspring_mutation.shape[1]), num_mutations))\n",
    "    \n",
    "    # mutation changes a single gene in each offspring randomly.\n",
    "    for i in range(offspring_mutation.shape[0]):\n",
    "        rand_numb = np.random.uniform(-1.0, 1.0, 1) # random number to be added to the gene.\n",
    "        offspring_mutation[i, mutation_indices] = offspring_mutation[i, mutation_indices] + rand_numb\n",
    "    return offspring_mutation"
   ]
  },
  {
   "cell_type": "markdown",
   "metadata": {},
   "source": [
    "# Main file"
   ]
  },
  {
   "cell_type": "markdown",
   "metadata": {},
   "source": [
    "### Genetic algorithm parameters:\n",
    "\n",
    "We can set the initial parameters for GA. \n",
    "\n",
    "1.    Number of parents in mating pool\n",
    "2.    Number of generations\n",
    "3.    Mutation percent\n",
    "4.    Crossover ratio\n",
    "5.    Number of solutions per population (cardinality of each generation)"
   ]
  },
  {
   "cell_type": "code",
   "execution_count": 14,
   "metadata": {},
   "outputs": [],
   "source": [
    "num_parents_mating = 4\n",
    "num_generations = 50\n",
    "mutation_percent = 10\n",
    "cross_percent = 60\n",
    "sol_per_pop = 10"
   ]
  },
  {
   "cell_type": "markdown",
   "metadata": {},
   "source": [
    "### ANN Architecture\n",
    "\n",
    "We use a fixed ANN architecture so that we can later compare various GA parameter settings.\n",
    "\n",
    "1. layer 1 ... 10 neurons\n",
    "2. layer 2 ... 10 neurons\n",
    "3. output layer ... 1 output neuron\n",
    "\n",
    "Uniform distribution $U(0,1)$ is used for weight initialization. \n",
    "\n",
    "\n",
    "\\begin{equation}\n",
    "w \\sim U(-0.1,0.1).\n",
    "\\end{equation}\n",
    "\n",
    "\n",
    "In the following step, we set the initial weights (population in terms of GA) for each layer."
   ]
  },
  {
   "cell_type": "code",
   "execution_count": 15,
   "metadata": {},
   "outputs": [],
   "source": [
    "def createNN():\n",
    "\n",
    "\n",
    "    initial_pop_weights = []\n",
    "    data_inputs=X\n",
    "    data_outputs=Y\n",
    "\n",
    "\n",
    "    for solution in np.arange(0, sol_per_pop): #runs through solutions in population\n",
    "        HL1_neurons = 10 #neurons in 1st hidden layer\n",
    "        input_HL1_weights = np.random.uniform(low=-0.1, high=0.1, size=(data_inputs.shape[1], HL1_neurons))\n",
    "\n",
    "        HL2_neurons = 10 #neurons in 2nd hidden layer\n",
    "        HL1_HL2_weights = np.random.uniform(low=-0.1, high=0.1, size=(HL1_neurons, HL2_neurons))\n",
    "\n",
    "        output_neurons = 1 #neurons in the output layer\n",
    "        HL2_output_weights = np.random.uniform(low=-0.1, high=0.1, size=(HL2_neurons, output_neurons))\n",
    "\n",
    "        initial_pop_weights.append(np.array([input_HL1_weights, HL1_HL2_weights, HL2_output_weights]))"
   ]
  },
  {
   "cell_type": "markdown",
   "metadata": {},
   "source": [
    "### Main algorithm\n",
    "\n",
    "Within the main algorithm, we perform following operations for each generation\n",
    "\n",
    "1. evaluate fitness  \n",
    "2. select mating pool \n",
    "3. do the crossover  \n",
    "4. perform mutation \n",
    "5. settle new generation\n",
    "\n",
    "\n",
    "Each solution includes the weights from each layer of the model. By default, `sol_per_pop`=10 solutions are observed for each generation. Otherwise, `mat_to_vector` and `vector_to_mat` functions are used frequently, as we need to flatten weights into vectors for each generation. The algorithm terminates if there are no more generations left. Function GO creates the ANN model and then performs the genetic optimization for selected number of solutions per population, crossover percentage and mutation percentage.\n"
   ]
  },
  {
   "cell_type": "code",
   "execution_count": 16,
   "metadata": {},
   "outputs": [],
   "source": [
    "def GO(X,Y,sol_per_pop, cross_percent, mutation_percent):\n",
    "    \n",
    "    initial_pop_weights = []\n",
    "    data_inputs=X\n",
    "    data_outputs=Y\n",
    "\n",
    "\n",
    "    for solution in np.arange(0, sol_per_pop): #runs through solutions in population\n",
    "        HL1_neurons = 10 #neurons in 1st hidden layer\n",
    "        input_HL1_weights = np.random.uniform(low=-0.1, high=0.1, size=(data_inputs.shape[1], HL1_neurons))\n",
    "\n",
    "        HL2_neurons = 10 #neurons in 2nd hidden layer\n",
    "        HL1_HL2_weights = np.random.uniform(low=-0.1, high=0.1, size=(HL1_neurons, HL2_neurons))\n",
    "\n",
    "        output_neurons = 1 #neurons in the output layer\n",
    "        HL2_output_weights = np.random.uniform(low=-0.1, high=0.1, size=(HL2_neurons, output_neurons))\n",
    "\n",
    "        initial_pop_weights.append(np.array([input_HL1_weights, HL1_HL2_weights, HL2_output_weights]))\n",
    "\n",
    "    \n",
    "\n",
    "    pop_weights_mat = np.array(initial_pop_weights)\n",
    "    pop_weights_vector = mat_to_vector(pop_weights_mat)\n",
    "\n",
    "    best_outputs = []\n",
    "    accuracies = np.empty(shape=(num_generations))\n",
    "    loss = np.empty(shape=(num_generations))\n",
    "\n",
    "    for generation in range(num_generations):\n",
    "\n",
    "\n",
    "        pop_weights_mat = vector_to_mat(pop_weights_vector, pop_weights_mat)\n",
    "\n",
    "\n",
    "        # fitness of population (for each solution)\n",
    "        fit_accuracy, fit_loss = fitness_pop(pop_weights_mat, data_inputs, data_outputs,  activation=\"sigmoid\")    \n",
    "        parents = select_mating_pool(pop_weights_vector, fit_loss.copy(), num_parents_mating)\n",
    "\n",
    "        # append new offsprings to selected parents (we keep the same number of solutions per pop.)\n",
    "        offspring_crossover = crossover(parents,offspring_size=(pop_weights_vector.shape[0]-parents.shape[0], \n",
    "                                                                pop_weights_vector.shape[1]),cross_percent=cross_percent)\n",
    "        offspring_mutation = mutation(offspring_crossover, mutation_percent=mutation_percent)\n",
    "\n",
    "\n",
    "        # new population \n",
    "        pop_weights_vector[0:parents.shape[0], :] = parents\n",
    "        pop_weights_vector[parents.shape[0]:, :] = offspring_mutation\n",
    "\n",
    "        pop_weights_mat = vector_to_mat(pop_weights_vector, pop_weights_mat)\n",
    "\n",
    "        #Use weights for prediction and accuracy of current generation\n",
    "        weights_current = pop_weights_mat [0, :]\n",
    "        accuracies[generation],_,_,loss[generation] = predict_outputs(weights_current, data_inputs, data_outputs, activation=\"sigmoid\")\n",
    "\n",
    "\n",
    "\n",
    "    pop_weights_mat = vector_to_mat(pop_weights_vector, pop_weights_mat)\n",
    "\n",
    "    #Use best weights for final prediction\n",
    "    best_weights = pop_weights_mat [0, :]\n",
    "    acc, predictions, probs, mse_loss = predict_outputs(best_weights, data_inputs, data_outputs, activation=\"sigmoid\")\n",
    "    return acc, mse_loss"
   ]
  },
  {
   "cell_type": "markdown",
   "metadata": {},
   "source": [
    "## Tuning mutation rate $m$ and crossover point $c$ parameters"
   ]
  },
  {
   "cell_type": "markdown",
   "metadata": {},
   "source": [
    "Inspired by Ettaouil [2], we perform the GO with different crossover and mutation parameters and then compare the results for different parameters. The best settings lead to the smallest fitness value after fixed number of epochs.  "
   ]
  },
  {
   "cell_type": "code",
   "execution_count": 29,
   "metadata": {},
   "outputs": [
    {
     "name": "stdout",
     "output_type": "stream",
     "text": [
      "Crossover perc.: 20   Mutation perc.: 5   Mean fitness value: 17.7727\n",
      "Crossover perc.: 20   Mutation perc.: 10   Mean fitness value: 14.8803\n",
      "Crossover perc.: 20   Mutation perc.: 15   Mean fitness value: 16.744\n",
      "Crossover perc.: 20   Mutation perc.: 20   Mean fitness value: 19.7788\n",
      "Crossover perc.: 20   Mutation perc.: 25   Mean fitness value: 21.8613\n",
      "Crossover perc.: 20   Mutation perc.: 30   Mean fitness value: 24.0662\n",
      "Crossover perc.: 20   Mutation perc.: 35   Mean fitness value: 24.648\n",
      "Crossover perc.: 20   Mutation perc.: 40   Mean fitness value: 24.8962\n",
      "Crossover perc.: 20   Mutation perc.: 45   Mean fitness value: 24.9671\n",
      "Crossover perc.: 20   Mutation perc.: 50   Mean fitness value: 24.9963\n",
      "Crossover perc.: 40   Mutation perc.: 5   Mean fitness value: 17.5086\n",
      "Crossover perc.: 40   Mutation perc.: 10   Mean fitness value: 15.9243\n",
      "Crossover perc.: 40   Mutation perc.: 15   Mean fitness value: 17.3663\n",
      "Crossover perc.: 40   Mutation perc.: 20   Mean fitness value: 19.5029\n",
      "Crossover perc.: 40   Mutation perc.: 25   Mean fitness value: 22.4862\n",
      "Crossover perc.: 40   Mutation perc.: 30   Mean fitness value: 23.4787\n",
      "Crossover perc.: 40   Mutation perc.: 35   Mean fitness value: 23.749\n",
      "Crossover perc.: 40   Mutation perc.: 40   Mean fitness value: 24.9832\n",
      "Crossover perc.: 40   Mutation perc.: 45   Mean fitness value: 24.9951\n",
      "Crossover perc.: 40   Mutation perc.: 50   Mean fitness value: 24.9935\n",
      "Crossover perc.: 60   Mutation perc.: 5   Mean fitness value: 17.0552\n",
      "Crossover perc.: 60   Mutation perc.: 10   Mean fitness value: 15.2263\n",
      "Crossover perc.: 60   Mutation perc.: 15   Mean fitness value: 17.0053\n",
      "Crossover perc.: 60   Mutation perc.: 20   Mean fitness value: 21.2815\n",
      "Crossover perc.: 60   Mutation perc.: 25   Mean fitness value: 21.8832\n",
      "Crossover perc.: 60   Mutation perc.: 30   Mean fitness value: 24.1969\n",
      "Crossover perc.: 60   Mutation perc.: 35   Mean fitness value: 24.4683\n",
      "Crossover perc.: 60   Mutation perc.: 40   Mean fitness value: 24.983\n",
      "Crossover perc.: 60   Mutation perc.: 45   Mean fitness value: 24.9942\n",
      "Crossover perc.: 60   Mutation perc.: 50   Mean fitness value: 24.9966\n",
      "Crossover perc.: 80   Mutation perc.: 5   Mean fitness value: 16.6415\n",
      "Crossover perc.: 80   Mutation perc.: 10   Mean fitness value: 16.9192\n",
      "Crossover perc.: 80   Mutation perc.: 15   Mean fitness value: 16.4295\n",
      "Crossover perc.: 80   Mutation perc.: 20   Mean fitness value: 19.9958\n",
      "Crossover perc.: 80   Mutation perc.: 25   Mean fitness value: 21.302\n",
      "Crossover perc.: 80   Mutation perc.: 30   Mean fitness value: 24.4392\n",
      "Crossover perc.: 80   Mutation perc.: 35   Mean fitness value: 24.7654\n",
      "Crossover perc.: 80   Mutation perc.: 40   Mean fitness value: 24.9092\n",
      "Crossover perc.: 80   Mutation perc.: 45   Mean fitness value: 24.988\n",
      "Crossover perc.: 80   Mutation perc.: 50   Mean fitness value: 24.9928\n",
      "Best avverage fitness value is 14.8803\n"
     ]
    }
   ],
   "source": [
    "import pandas as pd\n",
    "results = pd.DataFrame()\n",
    "maxruns = 50 # we run every parameter settings 50x to calculate a mean fitness value\n",
    "res = np.empty([4,10])\n",
    "\n",
    "for cross_percent in range(20,100,20):\n",
    "    for mutation_percent in range(5,55,5):\n",
    "        mse = np.empty(maxruns)\n",
    "        for run in range(0,maxruns):\n",
    "            _,mse[run] = GO(X,Y,sol_per_pop, cross_percent, mutation_percent)\n",
    "        mean_loss = np.mean(mse)\n",
    "        var_loss = np.var(mse)\n",
    "        i = int(cross_percent/20-1)\n",
    "        j = int(mutation_percent/5-1)\n",
    "        res[i,j] = round(mean_loss,4)\n",
    "        print('Crossover perc.:',cross_percent,'  Mutation perc.:',mutation_percent,'  Mean fitness value:',res[i,j])\n",
    "\n",
    "print('Best avverage fitness value is',np.min(res))        "
   ]
  },
  {
   "cell_type": "code",
   "execution_count": 64,
   "metadata": {},
   "outputs": [
    {
     "data": {
      "text/plain": [
       "array([[17.7727, 14.8803, 16.744 , 19.7788, 21.8613, 24.0662, 24.648 ,\n",
       "        24.8962, 24.9671, 24.9963],\n",
       "       [17.5086, 15.9243, 17.3663, 19.5029, 22.4862, 23.4787, 23.749 ,\n",
       "        24.9832, 24.9951, 24.9935],\n",
       "       [17.0552, 15.2263, 17.0053, 21.2815, 21.8832, 24.1969, 24.4683,\n",
       "        24.983 , 24.9942, 24.9966],\n",
       "       [16.6415, 16.9192, 16.4295, 19.9958, 21.302 , 24.4392, 24.7654,\n",
       "        24.9092, 24.988 , 24.9928]])"
      ]
     },
     "execution_count": 64,
     "metadata": {},
     "output_type": "execute_result"
    }
   ],
   "source": [
    "res"
   ]
  },
  {
   "cell_type": "code",
   "execution_count": 30,
   "metadata": {},
   "outputs": [],
   "source": [
    "np.savetxt(\"res_mean.csv\", res)\n",
    "np.savetxt(\"res_var.csv\", res_var)"
   ]
  },
  {
   "cell_type": "markdown",
   "metadata": {},
   "source": [
    "We observe the GO performance 50 times for each parameter settings to form corresponding statistic for fitness values (loss functions). The table below shows mean fitness values for different parameter settings. A lower fitness value means a lower classification error."
   ]
  },
  {
   "cell_type": "markdown",
   "metadata": {},
   "source": [
    "| Parameters  | $c=$ $20\\%$ | $c=$ $40\\%$ | $c=$ $60\\%$ |$c=$ $80\\%$ |\n",
    "|:---|--------------------------|--------------------------|--------------------------|--------------------------|\n",
    "|$m =5\\%$| 17.7727 | 17.5086 | 17.0551 | 16.6415 |\n",
    "|$m =10\\%$| 14.8803 | 15.9243 | 15.2263 | 16.9192 |\n",
    "|$m =15\\%$| 16.7439 | 17.3662 | 17.0052 | 16.4295 |\n",
    "|$m =20\\%$| 19.7788 | 19.5029 | 21.2815 | 19.9957 |\n",
    "|$m =25\\%$| 21.8612 | 22.4862 | 21.8831 | 21.3019 |\n",
    "|$m =30\\%$| 24.0661 | 23.4786 | 24.1968 | 24.4391 |\n",
    "|$m =35\\%$| 24.6479 | 23.7489 | 24.4682 | 24.7653 |\n",
    "|$m =40\\%$| 24.8962 | 24.9832 | 24.9830 | 24.9091 |\n",
    "|$m =45\\%$| 24.9671 | 24.9951 | 24.9941 | 24.9879 |\n",
    "|$m =50\\%$| 24.9963 | 24.9935 | 24.9966 | 24.9927 |\n"
   ]
  },
  {
   "cell_type": "markdown",
   "metadata": {},
   "source": [
    "As the table above shows, the smallest average fitness value FV = 14.8803 corresponds to the 10% mutation rate and 20% crossover rate. Made by https://www.tablesgenerator.com/markdown_tables#."
   ]
  },
  {
   "cell_type": "code",
   "execution_count": 48,
   "metadata": {},
   "outputs": [],
   "source": [
    "from matplotlib import pyplot as plt\n",
    "import matplotlib as mpl\n",
    "mpl.rcParams['figure.dpi'] = 200"
   ]
  },
  {
   "cell_type": "code",
   "execution_count": 62,
   "metadata": {},
   "outputs": [
    {
     "data": {
      "image/png": "[encoded data removed]",
      "text/plain": [
       "<Figure size 1000x2000 with 2 Axes>"
      ]
     },
     "metadata": {
      "needs_background": "light"
     },
     "output_type": "display_data"
    }
   ],
   "source": [
    "im = plt.imshow(res, interpolation='nearest')\n",
    "plt.xticks(np.arange(10), ('5', '10', '15', '20', '25','30','35','40','45','50'))\n",
    "plt.yticks(np.arange(4), ('20', '40', '60', '80'))\n",
    "plt.ylabel('Crossover point [%]')\n",
    "plt.xlabel('Mutation perc. [%]')\n",
    "plt.colorbar(im,fraction=0.02)\n",
    "plt.show()"
   ]
  },
  {
   "cell_type": "markdown",
   "metadata": {},
   "source": [
    "The picture above shows the fitness values illustrated via pixelmap with pixel intesities corresponding to the fitness values. As mentioned, the best results are observed near the 10% mutation rate boundary. GO with mutation rate over 30% performed significantly worse. This shows that while the crossover rate change did not lead to significant change in performance, mutation rate can significantly influence the performance of the classifier."
   ]
  },
  {
   "cell_type": "markdown",
   "metadata": {},
   "source": [
    "# Conclusion\n",
    "\n",
    "<ul>\n",
    "    <li> we successfully trained our ANN on IRIS training dataset</li>\n",
    "    <li> the classification performance was measured in MSE fitness value</li>\n",
    "    <li> we sucessfully trained various models with different mutation rate $m$ and crossover $c$ parameters settings</li>\n",
    "    <li> the smallest error was observed with: </li>\n",
    "        - $m = 10 \\%$, $c = 20 \\%$\n",
    "    <li> mutation rate had a more significant effect on the performance than crossover rate </li>\n",
    "    <li> generally, we observed the best results for mutation rate $m \\approx 10 \\%$ </li>\n",
    "    <li> performance for $m > 30 \\%$ rapidly decreased </li>\n",
    "    \n",
    "    \n",
    "   \n",
    "\n",
    "</ul>"
   ]
  },
  {
   "cell_type": "markdown",
   "metadata": {},
   "source": [
    "# Literature\n",
    "\n",
    "[1] Petra Vidnerová, Roman Neruda. Evolution Strategies for Deep Neural Network Models Design J. ITAT 2017 Proceedings, pp. 159–166.\n",
    "\n",
    "[2] Mohamed Ettaouil, Youssef Ghanou. Neural architectures optimization and genetic algorithms. Journal of WSEAS Transactions on Computers archive, Volume 8 Issue 3, March 2009, pp. 526-537. \n",
    "\n",
    "[3]  Anand Deshpande, Manish Kumar. Artificial Intelligence for Big Data. Packt. May 2018. "
   ]
  }
 ],
 "metadata": {
  "kernelspec": {
   "display_name": "Python 3",
   "language": "python",
   "name": "python3"
  },
  "language_info": {
   "codemirror_mode": {
    "name": "ipython",
    "version": 3
   },
   "file_extension": ".py",
   "mimetype": "text/x-python",
   "name": "python",
   "nbconvert_exporter": "python",
   "pygments_lexer": "ipython3",
   "version": "3.5.2"
  }
 },
 "nbformat": 4,
 "nbformat_minor": 2
}
